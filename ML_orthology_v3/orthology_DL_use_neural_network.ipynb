{
 "cells": [
  {
   "cell_type": "code",
   "execution_count": 1,
   "metadata": {},
   "outputs": [],
   "source": [
    "from orthology_DL_create_sentiment_featuresets import create_feature_sets_and_labels,protein_seq_to_binary\n",
    "from orthology_DL_train_neural_network import use_neural_network\n"
   ]
  },
  {
   "cell_type": "code",
   "execution_count": 2,
   "metadata": {},
   "outputs": [
    {
     "name": "stdout",
     "output_type": "stream",
     "text": [
      "INFO:tensorflow:Restoring parameters from model.ckpt\n",
      "\n",
      "*  CHLRE00002 is in oma group 737531\n"
     ]
    }
   ],
   "source": [
    "result = use_neural_network(\"./CHLRE00002.fa\")\n",
    "for k in result:\n",
    "    print(\"\\n* \",k,\"is in oma group\",result[k]) \n",
    "        "
   ]
  },
  {
   "cell_type": "code",
   "execution_count": null,
   "metadata": {},
   "outputs": [],
   "source": [
    "\"\"\"\n",
    "from orthology_DL_create_sentiment_featuresets import create_feature_sets_and_labels,protein_seq_to_binary\n",
    "from orthology_DL_train_neural_network import use_neural_network\n",
    "import sys\n",
    "\n",
    "if len(sys.argv)<2:\n",
    "    print(\"Usage:\\tpython3 ./orthology_DL_use_neural_network.py CHLRE00002.fa\")\n",
    "else:\n",
    "    result = use_neural_network(sys.argv[1])\n",
    "    for k in result:\n",
    "        print(\"\\n* \",k,\"is in oma group\",result[k]) \n",
    "\"\"\"            \n",
    "        \n"
   ]
  },
  {
   "cell_type": "code",
   "execution_count": null,
   "metadata": {},
   "outputs": [],
   "source": []
  }
 ],
 "metadata": {
  "kernelspec": {
   "display_name": "Python 3",
   "language": "python",
   "name": "python3"
  },
  "language_info": {
   "codemirror_mode": {
    "name": "ipython",
    "version": 2
   },
   "file_extension": ".py",
   "mimetype": "text/x-python",
   "name": "python",
   "nbconvert_exporter": "python",
   "pygments_lexer": "ipython2",
   "version": "2.7.12"
  }
 },
 "nbformat": 4,
 "nbformat_minor": 2
}
